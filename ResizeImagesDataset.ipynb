{
 "cells": [
  {
   "cell_type": "code",
   "execution_count": 37,
   "metadata": {},
   "outputs": [],
   "source": [
    "import cv2\n",
    "import os\n",
    "import fnmatch\n",
    "import numpy as np\n",
    "from PIL import Image"
   ]
  },
  {
   "cell_type": "code",
   "execution_count": 38,
   "metadata": {},
   "outputs": [],
   "source": [
    "dirlink='./out-pre/'\n",
    "old='./out/'\n",
    "list1=[]\n",
    "for root, dirnames, filenames in os.walk(old):\n",
    "    # preprocessing image\n",
    "    for f_name in fnmatch.filter(filenames, '*.jpg'):\n",
    "        list1.append([old,f_name,dirlink,f_name])\n",
    "# print(list1)"
   ]
  },
  {
   "cell_type": "code",
   "execution_count": 39,
   "metadata": {},
   "outputs": [
    {
     "name": "stdout",
     "output_type": "stream",
     "text": [
      "./out/ accolé_677.jpg\n",
      "./out/ Achúcarro's_1116.jpg\n",
      "./out/ Adanté_1823.jpg\n",
      "./out/ Albarrán's_3228.jpg\n",
      "./out/ Albers-Schönberg_3238.jpg\n",
      "./out/ alfreddugèsi_3524.jpg\n",
      "./out/ alström's_4198.jpg\n",
      "./out/ Alström_4197.jpg\n",
      "./out/ André_5622.jpg\n",
      "./out/ andström's_5703.jpg\n",
      "./out/ Angström's_6079.jpg\n",
      "./out/ Angström_6078.jpg\n",
      "./out/ appliqué_7988.jpg\n",
      "./out/ Assézat's_9526.jpg\n",
      "./out/ Aëtius_2623.jpg\n",
      "./out/ Ion đồ máu_22.jpg\n",
      "./out/ Kết quả_53.jpg\n",
      "./out/ Phân tích NT_35.jpg\n",
      "./out/ Protid máu_5.jpg\n",
      "./out/ Tên xét nghiệm_52.jpg\n"
     ]
    }
   ],
   "source": [
    "for i in list1:\n",
    "    try:\n",
    "        img=cv2.imread(i[0]+i[1])\n",
    "        resized_img=cv2.resize(img,(280,32))\n",
    "        cv2.imwrite(i[2]+i[3],resized_img)\n",
    "    except:\n",
    "        stream = open(old+i[1],\"rb\")\n",
    "        bytes = bytearray(stream.read())\n",
    "        numpyarray = np.asarray(bytes, dtype=np.uint8)\n",
    "        img = cv2.imdecode(numpyarray, cv2.IMREAD_UNCHANGED)\n",
    "        resized_img=cv2.resize(img,(280,32))\n",
    "        cv2.imwrite(i[1],resized_img)\n",
    "        print(i[0],i[1])\n",
    "    "
   ]
  },
  {
   "cell_type": "code",
   "execution_count": 25,
   "metadata": {},
   "outputs": [],
   "source": [
    "char_list=' !\"#&\\'()*+,-./0123456789:;?AÁÀẢÃẠÂẤẦẨẪẬĂẮẰẲẴẶBCDĐEÉÈẺẼẸÊẾỀỂỄỆFGHIÍÌỈĨỊJKLMNOÓÒỎÕỌÔỐỒỔỖỘƠỚỜỞỠỢPQRSTUÚÙỦŨỤỨỪỬỮỰVWXYÝỲỶỸỴZaáàảãạâấầẩẫậăắằẳẵặbcdđeéèẻẽẹêếềểễệfghiíìỉĩịjklmnoóòỏõọôốồổỗộơớờởỡợpqrstuúùủũụưứừửữựvwxyýỳỷỹỵz'"
   ]
  },
  {
   "cell_type": "code",
   "execution_count": 26,
   "metadata": {},
   "outputs": [
    {
     "name": "stdout",
     "output_type": "stream",
     "text": [
      "[63, 141, 164, 164, 167]\n"
     ]
    }
   ],
   "source": [
    "strText=\"Hello\"\n",
    "encodedList=[]\n",
    "for i,char in enumerate(strText):\n",
    "    encodedList.append(char_list.index(char))\n",
    "print(encodedList)\n"
   ]
  },
  {
   "cell_type": "code",
   "execution_count": null,
   "metadata": {},
   "outputs": [],
   "source": []
  }
 ],
 "metadata": {
  "kernelspec": {
   "display_name": "Python 3",
   "language": "python",
   "name": "python3"
  },
  "language_info": {
   "codemirror_mode": {
    "name": "ipython",
    "version": 3
   },
   "file_extension": ".py",
   "mimetype": "text/x-python",
   "name": "python",
   "nbconvert_exporter": "python",
   "pygments_lexer": "ipython3",
   "version": "3.6.8"
  }
 },
 "nbformat": 4,
 "nbformat_minor": 2
}
