{
 "cells": [
  {
   "cell_type": "code",
   "execution_count": 1,
   "metadata": {
    "colab": {},
    "colab_type": "code",
    "id": "2XgC6Q5qsucs"
   },
   "outputs": [],
   "source": [
    "import numpy as np\n",
    "import math\n",
    "import cv2 \n",
    "import os\n",
    "from matplotlib import pyplot as plt\n",
    "# from google.colab.patches import cv2_imshow"
   ]
  },
  {
   "cell_type": "code",
   "execution_count": 2,
   "metadata": {
    "colab": {},
    "colab_type": "code",
    "id": "xSfAFeRCvMiK"
   },
   "outputs": [],
   "source": [
    "im = cv2.imread('pxn.jpg')\n",
    "imgray = cv2.cvtColor(im, cv2.COLOR_BGR2GRAY)\n",
    "ret, thresh = cv2.threshold(imgray, 127, 255, 0)\n",
    "contours, hierarchy = cv2.findContours(thresh, 1, 2)"
   ]
  },
  {
   "cell_type": "code",
   "execution_count": 3,
   "metadata": {
    "colab": {
     "base_uri": "https://localhost:8080/",
     "height": 1000
    },
    "colab_type": "code",
    "id": "A0t9zPbKvOVE",
    "outputId": "6f4d8a2c-1e7c-47ac-bb43-44b5862e049b"
   },
   "outputs": [],
   "source": [
    "# cv2_imshow(im)"
   ]
  },
  {
   "cell_type": "code",
   "execution_count": 4,
   "metadata": {
    "colab": {
     "base_uri": "https://localhost:8080/",
     "height": 1000
    },
    "colab_type": "code",
    "id": "xr0rLO7VvX1g",
    "outputId": "41372881-f5b5-4067-c0c2-d12187f4b344"
   },
   "outputs": [],
   "source": [
    "# for cnt in contours:\n",
    "#   x,y,w,h = cv2.boundingRect(cnt)\n",
    "#   cv2.rectangle(im,(x,y),(x+w,y+h),(0,255,0),2)\n",
    "#   crop_img = im[y:y+h,x:x+w]\n",
    "#   cv2_imshow(crop_img)\n",
    "  "
   ]
  },
  {
   "cell_type": "code",
   "execution_count": null,
   "metadata": {
    "colab": {
     "base_uri": "https://localhost:8080/",
     "height": 1000
    },
    "colab_type": "code",
    "id": "kivdKTlWvqmz",
    "outputId": "bb87e800-a985-48ef-996f-b63e160b87f8"
   },
   "outputs": [],
   "source": [
    "im = cv2.imread('./pxn.jpg')\n",
    "imgray = cv2.cvtColor(im, cv2.COLOR_BGR2GRAY)\n",
    "ret, thresh = cv2.threshold(imgray, 127, 255, 0)\n",
    "contours, hierarchy = cv2.findContours(thresh, 1, 2)\n",
    "# cv2_imshow(im)\n",
    "\n",
    "groups=[]\n",
    "minRec=63\n",
    "maxRec=2000\n",
    "for cnt in contours:\n",
    "    x,y,w,h = cv2.boundingRect(cnt)\n",
    "    if(w*h>minRec and w*h<maxRec):\n",
    "        groups.append([x,y,w,h])\n",
    "    \n",
    "i=0\n",
    "j=1\n",
    "max_d= 40\n",
    "dictGroups={}\n",
    "a=0\n",
    "b=0\n",
    "recs=[]\n",
    "copys=groups\n",
    "groupName=0\n",
    "isNotRecList=False\n",
    "\n",
    "def distance(rec1,rec2):\n",
    "    return (((int(rec2[0])-int(rec1[0]))**2+(int(rec2[1])-int(rec1[1]))**2)**0.5)\n",
    "\n",
    "def filterRectangle(recsTemp,currCopys):\n",
    "    recsTemp1=[]\n",
    "    a=0\n",
    "    b=0\n",
    "    isNotRecList=False\n",
    "    while(a<len(recsTemp)):\n",
    "        while(b<len(currCopys)):\n",
    "            if(distance(recsTemp[a],currCopys[b])<=max_d):\n",
    "                recs.append(currCopys[b])\n",
    "                recsTemp1.append(currCopys[b])\n",
    "                currCopys.pop(b)\n",
    "            b+=1\n",
    "    a+=1\n",
    "    b=0\n",
    "    if(len(recsTemp1)==0):\n",
    "        isNotRecList=True\n",
    "    if(isNotRecList):\n",
    "        isNotRecList=False\n",
    "        return recs\n",
    "    return filterRectangle(recsTemp1,currCopys)\n",
    "\n",
    "while(len(copys)>0):\n",
    "    recs.append(copys[i])\n",
    "    copys.pop(i)\n",
    "    while(j<len(copys)):\n",
    "        if(distance(recs[-1],copys[j])<=max_d):\n",
    "            recs.append(copys[j])\n",
    "            copys.pop(j)\n",
    "        j+=1\n",
    "    dictGroups[groupName]=recs\n",
    "    groupName+=1\n",
    "    filterRectangle(recs,copys)\n",
    "    recs=[]\n",
    "    j=1\n",
    "    print('done clustering')\n",
    "\n",
    "xPoints = []\n",
    "yPoints = []\n",
    "coordinateRecs = []\n",
    "def calculateHeightNWidth(xMin, xMax, yMin, yMax):\n",
    "    w2 = int(distance([xMin, yMax], [xMax, yMax]))\n",
    "    h2 = int(distance([xMin, yMax], [xMin, yMin]))\n",
    "    return [w2, h2]\n",
    "\n",
    "\n",
    "def getCoordinateRec(xList, yList):\n",
    "    xMin = min(xList)\n",
    "    xMax = max(xList)\n",
    "    yMin = min(yList)\n",
    "    yMax = max(yList)\n",
    "    size = calculateHeightNWidth(xMin, xMax, yMin, yMax)\n",
    "    coordinateRecs.append([[xMin, yMax], [xMin, yMin], [xMax, yMax], [\n",
    "                        xMax, yMin], size[0], size[1]])\n",
    "\n",
    "\n",
    "for i, items in enumerate(dictGroups.values()):\n",
    "    xPoints=[]\n",
    "    yPoints=[]\n",
    "    for item in items:\n",
    "        xPoints.append(item[0])\n",
    "        yPoints.append(item[1])\n",
    "    getCoordinateRec(xPoints, yPoints)\n",
    "    \n",
    "for i,item in enumerate(coordinateRecs):\n",
    "    print(i)\n",
    "    print(item)"
   ]
  },
  {
   "cell_type": "code",
   "execution_count": null,
   "metadata": {
    "colab": {
     "base_uri": "https://localhost:8080/",
     "height": 35
    },
    "colab_type": "code",
    "id": "Sg4sVgAAURO6",
    "outputId": "d0427aa7-80d4-44f6-d063-82f02cf91915"
   },
   "outputs": [],
   "source": [
    "coordinateRecs[0][4]"
   ]
  },
  {
   "cell_type": "code",
   "execution_count": null,
   "metadata": {
    "colab": {
     "base_uri": "https://localhost:8080/",
     "height": 1000
    },
    "colab_type": "code",
    "id": "dJKxI5zAFtno",
    "outputId": "04a538cd-2320-4703-eb92-f71b143a2767"
   },
   "outputs": [],
   "source": [
    "margin=10\n",
    "for i,image in enumerate(coordinateRecs):\n",
    "    crop_img=[]\n",
    "    grey_image=[]\n",
    "    if(image[0][0]<4*margin):\n",
    "    crop_img = new_im[image[0][1]-2*margin-image[5]:image[0][1]+4*margin, image[0][0]:image[0][0]+image[4]+5*margin]\n",
    "    elif(image[0][1]<2*margin+image[5]):\n",
    "    crop_img = new_im[image[0][1]-2*margin-image[5]:image[0][1]+4*margin, image[0][0]-4*margin:image[0][0]+image[4]+5*margin]\n",
    "    else:\n",
    "    crop_img = new_im[image[0][1]-2*margin-image[5]:image[0][1]+4*margin, image[0][0]-4*margin:image[0][0]+image[4]+5*margin]\n",
    "    grey_image=cv2.cvtColor(crop_img,cv2.COLOR_BGR2GRAY)\n",
    "    resize_image= cv2.resize(grey_image,(280,32))\n",
    "#   cv2_imshow(resize_image)\n",
    "#   cv2_imshow(im)\n",
    "#   cv2.waitKey(0)\n",
    "    print('--------------------------------------------------------------')\n",
    "    cv2.imwrite('./img'+str(i)+'.png',resize_image)"
   ]
  },
  {
   "cell_type": "code",
   "execution_count": null,
   "metadata": {
    "colab": {},
    "colab_type": "code",
    "id": "HMbGeGmoHY2m"
   },
   "outputs": [],
   "source": []
  }
 ],
 "metadata": {
  "colab": {
   "collapsed_sections": [],
   "name": "TestCropFunction.ipynb",
   "provenance": [],
   "version": "0.3.2"
  },
  "kernelspec": {
   "display_name": "Python 3",
   "language": "python",
   "name": "python3"
  },
  "language_info": {
   "codemirror_mode": {
    "name": "ipython",
    "version": 3
   },
   "file_extension": ".py",
   "mimetype": "text/x-python",
   "name": "python",
   "nbconvert_exporter": "python",
   "pygments_lexer": "ipython3",
   "version": "3.6.8"
  }
 },
 "nbformat": 4,
 "nbformat_minor": 1
}
